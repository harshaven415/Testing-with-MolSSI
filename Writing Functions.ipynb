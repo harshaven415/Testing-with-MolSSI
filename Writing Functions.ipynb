{
 "cells": [
  {
   "cell_type": "markdown",
   "id": "ec3b26ed",
   "metadata": {},
   "source": [
    "Writing Functions\n",
    "# We will determine how to write functions and include them in code"
   ]
  },
  {
   "cell_type": "code",
   "execution_count": 1,
   "id": "152b1899",
   "metadata": {},
   "outputs": [],
   "source": [
    "#Functions are organized blocks of code which perform certain tasks\n",
    "\n",
    "#def function_name(parameters):\n",
    "    #** body code **\n",
    "    #return value_to_return"
   ]
  },
  {
   "cell_type": "code",
   "execution_count": 3,
   "id": "007da3b1",
   "metadata": {},
   "outputs": [
    {
     "name": "stdout",
     "output_type": "stream",
     "text": [
      "O to H1 : 0.969\n",
      "O to H2 : 0.969\n"
     ]
    }
   ],
   "source": [
    "#Now, let us revisit our geometry analysis project\n",
    "\n",
    "import numpy\n",
    "import os\n",
    "\n",
    "file_location = os.path.join('data', 'water.xyz')\n",
    "xyz_file = numpy.genfromtxt(fname=file_location, skip_header=2, dtype = 'unicode')\n",
    "symbols = xyz_file[:, 0]\n",
    "coordinates = xyz_file[:, 1:]\n",
    "coordinates = coordinates.astype(float)\n",
    "\n",
    "num_atoms = len(symbols)\n",
    "\n",
    "for num1 in range(0, num_atoms):\n",
    "    for num2 in range(0, num_atoms):\n",
    "        if num1 < num2:\n",
    "            x_distance = coordinates[num1, 0] - coordinates[num2, 0]\n",
    "            y_distance = coordinates[num1, 1] - coordinates[num2, 1]\n",
    "            z_distance = coordinates[num1, 2] - coordinates[num2, 2]\n",
    "            bond_length_12 = numpy.sqrt(x_distance**2 + y_distance**2 + z_distance**2)\n",
    "            if bond_length_12 > 0 and bond_length_12 <=1.5:\n",
    "                print(F'{symbols[num1]} to {symbols[num2]} : {bond_length_12:.3f}')"
   ]
  },
  {
   "cell_type": "code",
   "execution_count": 4,
   "id": "b3089b47",
   "metadata": {},
   "outputs": [],
   "source": [
    "#This is alot to type, so now let us make a function to save us time\n",
    "\n",
    "def calculate_distance(atom1_coord, atom2_coord):\n",
    "    x_distance = atom1_coord[0] - atom2_coord[0]\n",
    "    y_distance = atom1_coord[1] - atom2_coord[1]\n",
    "    z_distance = atom1_coord[2] - atom2_coord[2]\n",
    "    bond_length_12 = numpy.sqrt(x_distance**2 + y_distance**2 + z_distance**2)\n",
    "    return bond_length_12\n",
    "    "
   ]
  },
  {
   "cell_type": "code",
   "execution_count": 5,
   "id": "c2f103bc",
   "metadata": {},
   "outputs": [
    {
     "name": "stdout",
     "output_type": "stream",
     "text": [
      "O to H1 : 0.969\n",
      "O to H2 : 0.969\n"
     ]
    }
   ],
   "source": [
    "for num1 in range(0, num_atoms):\n",
    "    for num2 in range(0, num_atoms):\n",
    "        if num1 < num2:\n",
    "            bond_length_12 = calculate_distance(coordinates[num1], coordinates[num2])\n",
    "            if bond_length_12 > 0 and bond_length_12 < 1.5:\n",
    "                print(F'{symbols[num1]} to {symbols[num2]} : {bond_length_12:.3f}')"
   ]
  },
  {
   "cell_type": "code",
   "execution_count": 6,
   "id": "605aa666",
   "metadata": {},
   "outputs": [],
   "source": [
    "def bond_check(atom_distance):\n",
    "    if atom_distance > 0 and atom_distance <=1.5:\n",
    "        return True\n",
    "    else:\n",
    "        return False\n",
    "    "
   ]
  },
  {
   "cell_type": "code",
   "execution_count": 7,
   "id": "42ee1506",
   "metadata": {},
   "outputs": [],
   "source": [
    "def bond_check(atom_distance, minimum_length, maximum_length):\n",
    "   if atom_distance > minimum_length and atom_distance <= maximum_length:\n",
    "       return True\n",
    "   else:\n",
    "       return False\n",
    "#This will take a minimum length and maximum length as user input"
   ]
  },
  {
   "cell_type": "code",
   "execution_count": 8,
   "id": "ff58a0fe",
   "metadata": {},
   "outputs": [
    {
     "name": "stdout",
     "output_type": "stream",
     "text": [
      "Help on function genfromtxt in module numpy:\n",
      "\n",
      "genfromtxt(fname, dtype=<class 'float'>, comments='#', delimiter=None, skip_header=0, skip_footer=0, converters=None, missing_values=None, filling_values=None, usecols=None, names=None, excludelist=None, deletechars=\" !#$%&'()*+,-./:;<=>?@[\\\\]^{|}~\", replace_space='_', autostrip=False, case_sensitive=True, defaultfmt='f%i', unpack=None, usemask=False, loose=True, invalid_raise=True, max_rows=None, encoding='bytes', *, ndmin=0, like=None)\n",
      "    Load data from a text file, with missing values handled as specified.\n",
      "    \n",
      "    Each line past the first `skip_header` lines is split at the `delimiter`\n",
      "    character, and characters following the `comments` character are discarded.\n",
      "    \n",
      "    Parameters\n",
      "    ----------\n",
      "    fname : file, str, pathlib.Path, list of str, generator\n",
      "        File, filename, list, or generator to read.  If the filename\n",
      "        extension is ``.gz`` or ``.bz2``, the file is first decompressed. Note\n",
      "        that generators must return bytes or strings. The strings\n",
      "        in a list or produced by a generator are treated as lines.\n",
      "    dtype : dtype, optional\n",
      "        Data type of the resulting array.\n",
      "        If None, the dtypes will be determined by the contents of each\n",
      "        column, individually.\n",
      "    comments : str, optional\n",
      "        The character used to indicate the start of a comment.\n",
      "        All the characters occurring on a line after a comment are discarded.\n",
      "    delimiter : str, int, or sequence, optional\n",
      "        The string used to separate values.  By default, any consecutive\n",
      "        whitespaces act as delimiter.  An integer or sequence of integers\n",
      "        can also be provided as width(s) of each field.\n",
      "    skiprows : int, optional\n",
      "        `skiprows` was removed in numpy 1.10. Please use `skip_header` instead.\n",
      "    skip_header : int, optional\n",
      "        The number of lines to skip at the beginning of the file.\n",
      "    skip_footer : int, optional\n",
      "        The number of lines to skip at the end of the file.\n",
      "    converters : variable, optional\n",
      "        The set of functions that convert the data of a column to a value.\n",
      "        The converters can also be used to provide a default value\n",
      "        for missing data: ``converters = {3: lambda s: float(s or 0)}``.\n",
      "    missing : variable, optional\n",
      "        `missing` was removed in numpy 1.10. Please use `missing_values`\n",
      "        instead.\n",
      "    missing_values : variable, optional\n",
      "        The set of strings corresponding to missing data.\n",
      "    filling_values : variable, optional\n",
      "        The set of values to be used as default when the data are missing.\n",
      "    usecols : sequence, optional\n",
      "        Which columns to read, with 0 being the first.  For example,\n",
      "        ``usecols = (1, 4, 5)`` will extract the 2nd, 5th and 6th columns.\n",
      "    names : {None, True, str, sequence}, optional\n",
      "        If `names` is True, the field names are read from the first line after\n",
      "        the first `skip_header` lines. This line can optionally be preceded\n",
      "        by a comment delimiter. If `names` is a sequence or a single-string of\n",
      "        comma-separated names, the names will be used to define the field names\n",
      "        in a structured dtype. If `names` is None, the names of the dtype\n",
      "        fields will be used, if any.\n",
      "    excludelist : sequence, optional\n",
      "        A list of names to exclude. This list is appended to the default list\n",
      "        ['return','file','print']. Excluded names are appended with an\n",
      "        underscore: for example, `file` would become `file_`.\n",
      "    deletechars : str, optional\n",
      "        A string combining invalid characters that must be deleted from the\n",
      "        names.\n",
      "    defaultfmt : str, optional\n",
      "        A format used to define default field names, such as \"f%i\" or \"f_%02i\".\n",
      "    autostrip : bool, optional\n",
      "        Whether to automatically strip white spaces from the variables.\n",
      "    replace_space : char, optional\n",
      "        Character(s) used in replacement of white spaces in the variable\n",
      "        names. By default, use a '_'.\n",
      "    case_sensitive : {True, False, 'upper', 'lower'}, optional\n",
      "        If True, field names are case sensitive.\n",
      "        If False or 'upper', field names are converted to upper case.\n",
      "        If 'lower', field names are converted to lower case.\n",
      "    unpack : bool, optional\n",
      "        If True, the returned array is transposed, so that arguments may be\n",
      "        unpacked using ``x, y, z = genfromtxt(...)``.  When used with a\n",
      "        structured data-type, arrays are returned for each field.\n",
      "        Default is False.\n",
      "    usemask : bool, optional\n",
      "        If True, return a masked array.\n",
      "        If False, return a regular array.\n",
      "    loose : bool, optional\n",
      "        If True, do not raise errors for invalid values.\n",
      "    invalid_raise : bool, optional\n",
      "        If True, an exception is raised if an inconsistency is detected in the\n",
      "        number of columns.\n",
      "        If False, a warning is emitted and the offending lines are skipped.\n",
      "    max_rows : int,  optional\n",
      "        The maximum number of rows to read. Must not be used with skip_footer\n",
      "        at the same time.  If given, the value must be at least 1. Default is\n",
      "        to read the entire file.\n",
      "    \n",
      "        .. versionadded:: 1.10.0\n",
      "    encoding : str, optional\n",
      "        Encoding used to decode the inputfile. Does not apply when `fname` is\n",
      "        a file object.  The special value 'bytes' enables backward compatibility\n",
      "        workarounds that ensure that you receive byte arrays when possible\n",
      "        and passes latin1 encoded strings to converters. Override this value to\n",
      "        receive unicode arrays and pass strings as input to converters.  If set\n",
      "        to None the system default is used. The default value is 'bytes'.\n",
      "    \n",
      "        .. versionadded:: 1.14.0\n",
      "    ndmin : int, optional\n",
      "        Same parameter as `loadtxt`\n",
      "    \n",
      "        .. versionadded:: 1.23.0\n",
      "    like : array_like, optional\n",
      "        Reference object to allow the creation of arrays which are not\n",
      "        NumPy arrays. If an array-like passed in as ``like`` supports\n",
      "        the ``__array_function__`` protocol, the result will be defined\n",
      "        by it. In this case, it ensures the creation of an array object\n",
      "        compatible with that passed in via this argument.\n",
      "    \n",
      "        .. versionadded:: 1.20.0\n",
      "    \n",
      "    Returns\n",
      "    -------\n",
      "    out : ndarray\n",
      "        Data read from the text file. If `usemask` is True, this is a\n",
      "        masked array.\n",
      "    \n",
      "    See Also\n",
      "    --------\n",
      "    numpy.loadtxt : equivalent function when no data is missing.\n",
      "    \n",
      "    Notes\n",
      "    -----\n",
      "    * When spaces are used as delimiters, or when no delimiter has been given\n",
      "      as input, there should not be any missing data between two fields.\n",
      "    * When the variables are named (either by a flexible dtype or with `names`),\n",
      "      there must not be any header in the file (else a ValueError\n",
      "      exception is raised).\n",
      "    * Individual values are not stripped of spaces by default.\n",
      "      When using a custom converter, make sure the function does remove spaces.\n",
      "    \n",
      "    References\n",
      "    ----------\n",
      "    .. [1] NumPy User Guide, section `I/O with NumPy\n",
      "           <https://docs.scipy.org/doc/numpy/user/basics.io.genfromtxt.html>`_.\n",
      "    \n",
      "    Examples\n",
      "    --------\n",
      "    >>> from io import StringIO\n",
      "    >>> import numpy as np\n",
      "    \n",
      "    Comma delimited file with mixed dtype\n",
      "    \n",
      "    >>> s = StringIO(u\"1,1.3,abcde\")\n",
      "    >>> data = np.genfromtxt(s, dtype=[('myint','i8'),('myfloat','f8'),\n",
      "    ... ('mystring','S5')], delimiter=\",\")\n",
      "    >>> data\n",
      "    array((1, 1.3, b'abcde'),\n",
      "          dtype=[('myint', '<i8'), ('myfloat', '<f8'), ('mystring', 'S5')])\n",
      "    \n",
      "    Using dtype = None\n",
      "    \n",
      "    >>> _ = s.seek(0) # needed for StringIO example only\n",
      "    >>> data = np.genfromtxt(s, dtype=None,\n",
      "    ... names = ['myint','myfloat','mystring'], delimiter=\",\")\n",
      "    >>> data\n",
      "    array((1, 1.3, b'abcde'),\n",
      "          dtype=[('myint', '<i8'), ('myfloat', '<f8'), ('mystring', 'S5')])\n",
      "    \n",
      "    Specifying dtype and names\n",
      "    \n",
      "    >>> _ = s.seek(0)\n",
      "    >>> data = np.genfromtxt(s, dtype=\"i8,f8,S5\",\n",
      "    ... names=['myint','myfloat','mystring'], delimiter=\",\")\n",
      "    >>> data\n",
      "    array((1, 1.3, b'abcde'),\n",
      "          dtype=[('myint', '<i8'), ('myfloat', '<f8'), ('mystring', 'S5')])\n",
      "    \n",
      "    An example with fixed-width columns\n",
      "    \n",
      "    >>> s = StringIO(u\"11.3abcde\")\n",
      "    >>> data = np.genfromtxt(s, dtype=None, names=['intvar','fltvar','strvar'],\n",
      "    ...     delimiter=[1,3,5])\n",
      "    >>> data\n",
      "    array((1, 1.3, b'abcde'),\n",
      "          dtype=[('intvar', '<i8'), ('fltvar', '<f8'), ('strvar', 'S5')])\n",
      "    \n",
      "    An example to show comments\n",
      "    \n",
      "    >>> f = StringIO('''\n",
      "    ... text,# of chars\n",
      "    ... hello world,11\n",
      "    ... numpy,5''')\n",
      "    >>> np.genfromtxt(f, dtype='S12,S12', delimiter=',')\n",
      "    array([(b'text', b''), (b'hello world', b'11'), (b'numpy', b'5')],\n",
      "      dtype=[('f0', 'S12'), ('f1', 'S12')])\n",
      "\n"
     ]
    }
   ],
   "source": [
    "help(numpy.genfromtxt)"
   ]
  },
  {
   "cell_type": "code",
   "execution_count": 9,
   "id": "ba36cd3f",
   "metadata": {},
   "outputs": [
    {
     "name": "stdout",
     "output_type": "stream",
     "text": [
      "Help on function calculate_distance in module __main__:\n",
      "\n",
      "calculate_distance(atom1_coord, atom2_coord)\n",
      "\n"
     ]
    }
   ],
   "source": [
    "help(calculate_distance)"
   ]
  },
  {
   "cell_type": "code",
   "execution_count": 11,
   "id": "f0f18bfc",
   "metadata": {},
   "outputs": [],
   "source": [
    "#In the help command, we haven't included a quote to say what it is\n",
    "\n",
    "#Let's redefine the function with a block quote underneath\n",
    "\n",
    "def calculate_distance(atom1_coord, atom2_coord):\n",
    "    \"\"\"Caclulate the distance between two 3D points\"\"\"\n",
    "    \n",
    "    x_distance = atom1_coord[0] - atom2_coord[0]\n",
    "    y_distance = atom1_coord[1] - atom2_coord[1]\n",
    "    z_distance = atom1_coord[2] - atom2_coord[2]\n",
    "    bond_length_12 = numpy.sqrt(x_distance**2 + y_distance**2 + z_distance**2)\n",
    "    return bond_length_12"
   ]
  },
  {
   "cell_type": "code",
   "execution_count": 12,
   "id": "a8bf60ea",
   "metadata": {},
   "outputs": [
    {
     "name": "stdout",
     "output_type": "stream",
     "text": [
      "Help on function calculate_distance in module __main__:\n",
      "\n",
      "calculate_distance(atom1_coord, atom2_coord)\n",
      "    Caclulate the distance between two 3D points\n",
      "\n"
     ]
    }
   ],
   "source": [
    "help(calculate_distance)"
   ]
  },
  {
   "cell_type": "code",
   "execution_count": 13,
   "id": "ed877b4d",
   "metadata": {},
   "outputs": [],
   "source": [
    "#In functions, we can also have default values that are not inputs:\n",
    "\n",
    "def bond_check(atom_distance, minimum_length = 0, maximum_length = 1.5):\n",
    "    \"\"\"Check if a distance is a bond based on min and max bond length\"\"\"\n",
    "    \n",
    "    if atom_distance > minimum_length and atom_distance <= maximum_length:\n",
    "        return True\n",
    "    else:\n",
    "        return False\n"
   ]
  },
  {
   "cell_type": "code",
   "execution_count": 14,
   "id": "a89a700c",
   "metadata": {},
   "outputs": [
    {
     "name": "stdout",
     "output_type": "stream",
     "text": [
      "True\n",
      "False\n"
     ]
    }
   ],
   "source": [
    "print(bond_check(1.5))\n",
    "print(bond_check(1.6))"
   ]
  },
  {
   "cell_type": "code",
   "execution_count": 15,
   "id": "9516326e",
   "metadata": {},
   "outputs": [
    {
     "name": "stdout",
     "output_type": "stream",
     "text": [
      "True\n"
     ]
    }
   ],
   "source": [
    "#There is a way to override the function, without changing it:\n",
    "\n",
    "print(bond_check(1.6, maximum_length=1.6))"
   ]
  },
  {
   "cell_type": "code",
   "execution_count": 17,
   "id": "f102ba61",
   "metadata": {},
   "outputs": [
    {
     "name": "stdout",
     "output_type": "stream",
     "text": [
      "O to H1 : 0.969\n",
      "O to H2 : 0.969\n"
     ]
    }
   ],
   "source": [
    "#Now that we have our functions, we can use it in our for loop:\n",
    "\n",
    "num_atoms = len(symbols)\n",
    "\n",
    "for num1 in range(0, num_atoms):\n",
    "    for num2 in range(0, num_atoms):\n",
    "        if num1 < num2:\n",
    "            bond_length_12 = calculate_distance(coordinates[num1],coordinates[num2])\n",
    "            if bond_check(bond_length_12) is True:\n",
    "                print(F'{symbols[num1]} to {symbols[num2]} : {bond_length_12:.3f}')"
   ]
  },
  {
   "cell_type": "code",
   "execution_count": 18,
   "id": "d841fb16",
   "metadata": {},
   "outputs": [],
   "source": [
    "#Now, just one more function that opens and processes the xyz file\n",
    "\n",
    "def open_xyz(filename):\n",
    "    xyz_file = numpy.genfromtxt(fname=filename, skip_header=2, dtype = 'unicode')\n",
    "    symbols = xyz_file[:, 0]\n",
    "    coord = (xyz_file[:, 1:])\n",
    "    coord = coord.astype(float)\n",
    "    return symbols, coord"
   ]
  },
  {
   "cell_type": "code",
   "execution_count": 21,
   "id": "7926e2a3",
   "metadata": {},
   "outputs": [
    {
     "name": "stdout",
     "output_type": "stream",
     "text": [
      "O to H1 : 0.969\n",
      "O to H2 : 0.969\n"
     ]
    }
   ],
   "source": [
    "#Now, we can shorten everything:\n",
    "\n",
    "import numpy\n",
    "import os\n",
    "\n",
    "file_location = os.path.join('data', 'water.xyz')\n",
    "symbols, coord = open_xyz(file_location)\n",
    "num_atoms = len(symbols)\n",
    "for num1 in range(0, num_atoms):\n",
    "    for num2 in range(0, num_atoms):\n",
    "        if num1 < num2:\n",
    "            bond_length_12 = calculate_distance(coordinates[num1], coordinates[num2])\n",
    "            if bond_check(bond_length_12) is True:\n",
    "                print(F'{symbols[num1]} to {symbols[num2]} : {bond_length_12:.3f}')"
   ]
  },
  {
   "cell_type": "code",
   "execution_count": 22,
   "id": "99af2c6e",
   "metadata": {},
   "outputs": [],
   "source": [
    "#Now, let's write another function that can do this for other files\n",
    "\n",
    "def print_bonds(atom_symbols, atom_coordinates):\n",
    "    num_atoms = len(atom_symbols)\n",
    "    for num1 in range(0, num_atoms):\n",
    "        for num2 in range(0, num_atoms):\n",
    "            if num1 < num2:\n",
    "                bond_length_12 = calculate_distance(atom_coordinates[num1], atom_coordinates[num2])\n",
    "                if bond_check(bond_length_12) is True:\n",
    "                    print(F'{atom_symbols[num1]} to {atom_symbols[num2]} : {bond_length_12:.3f}')"
   ]
  },
  {
   "cell_type": "code",
   "execution_count": 25,
   "id": "fb288fa3",
   "metadata": {},
   "outputs": [],
   "source": [
    "#Now, let us see what it looks like all in one file\n",
    "\n",
    "import numpy\n",
    "import os \n",
    "\n",
    "def calculate_distance(atom1_coord, atom2_coord):\n",
    "    \"\"\"Caclulate distance between 2 3D points\"\"\"\n",
    "    \n",
    "    x_distance = atom1_coord[0] - atom2_coord[0]\n",
    "    y_distance = atom1_coord[1] - atom2_coord[1]\n",
    "    z_distance = atom1_coord[2] - atom2_coord[2]\n",
    "    bond_length_12 = numpy.sqrt(x_distance**2 + y_distance**2 + z_distance**2)\n",
    "    return bond_length_12\n",
    "\n",
    "def bond_check(atom_distance, minimum_length = 0, maximum_length = 1.5):\n",
    "    \"\"\"Check if a distance is a bond based on min amd max length\"\"\"\n",
    "    \n",
    "    if atom_distance > minimum_length and atom_distance <= maximum_length:\n",
    "        return True\n",
    "    else:\n",
    "        return False\n",
    "    \n",
    "def open_xyz(filename):\n",
    "    xyz_file = numpy.genfromtxt(fname=filename, skip_header=2, dtype = 'unicode')\n",
    "    symbols = xyz_file[:, 0]\n",
    "    coord = (xyz_file[:, 1:])\n",
    "    coord = coord.astype(float)\n",
    "    return symbols, coord\n",
    "\n",
    "def print_bonds(atom_symbols, atom_coordinates):\n",
    "    num_atoms = len(atom_symbols)\n",
    "    for num1 in range(0, num_atoms):\n",
    "        for num2 in range(0, num_atoms):\n",
    "            if num1 < num2:\n",
    "                bond_length_12 = calculate_distance(atom_coordinates[num1], atom_coordinates[num2])\n",
    "                if bond_check(bond_length_12) is True:\n",
    "                    print(F'{atom_symbols[num1]} to {atom_symbols[num2]} : {bond_length_12:.3f}')"
   ]
  },
  {
   "cell_type": "code",
   "execution_count": 26,
   "id": "30a7a6a8",
   "metadata": {},
   "outputs": [
    {
     "name": "stdout",
     "output_type": "stream",
     "text": [
      "Printing bonds for water.\n",
      "O to H1 : 0.969\n",
      "O to H2 : 0.969\n",
      "Printing bonds for benzene.\n",
      "C to H : 1.088\n",
      "C to C : 1.403\n",
      "C to C : 1.403\n",
      "C to H : 1.088\n",
      "C to C : 1.403\n",
      "C to H : 1.088\n",
      "C to C : 1.403\n",
      "C to H : 1.088\n",
      "C to C : 1.403\n",
      "C to H : 1.088\n",
      "C to C : 1.403\n",
      "C to H : 1.088\n"
     ]
    }
   ],
   "source": [
    "water_file_location = os.path.join('data', 'water.xyz')\n",
    "water_symbols, water_coords = open_xyz(water_file_location)\n",
    "\n",
    "benzene_file_location = os.path.join('data', 'benzene.xyz')\n",
    "benzene_symbols, benzene_coords = open_xyz(benzene_file_location)\n",
    "\n",
    "print(F'Printing bonds for water.')\n",
    "print_bonds(water_symbols, water_coords)\n",
    "\n",
    "print(F'Printing bonds for benzene.')\n",
    "print_bonds(benzene_symbols, benzene_coords)"
   ]
  },
  {
   "cell_type": "code",
   "execution_count": 28,
   "id": "e508bd20",
   "metadata": {},
   "outputs": [
    {
     "name": "stdout",
     "output_type": "stream",
     "text": [
      "Printing bonds for  data/benzene.xyz\n",
      "C to H : 1.088\n",
      "C to C : 1.403\n",
      "C to C : 1.403\n",
      "C to H : 1.088\n",
      "C to C : 1.403\n",
      "C to H : 1.088\n",
      "C to C : 1.403\n",
      "C to H : 1.088\n",
      "C to C : 1.403\n",
      "C to H : 1.088\n",
      "C to C : 1.403\n",
      "C to H : 1.088\n",
      "Printing bonds for  data/buckminsterfullerene.xyz\n",
      "C to C : 1.453\n",
      "C to C : 1.453\n",
      "C to C : 1.395\n",
      "C to C : 1.453\n",
      "C to C : 1.395\n",
      "C to C : 1.453\n",
      "C to C : 1.395\n",
      "C to C : 1.453\n",
      "C to C : 1.395\n",
      "C to C : 1.395\n",
      "C to C : 1.453\n",
      "C to C : 1.453\n",
      "C to C : 1.395\n",
      "C to C : 1.453\n",
      "C to C : 1.453\n",
      "C to C : 1.453\n",
      "C to C : 1.453\n",
      "C to C : 1.395\n",
      "C to C : 1.453\n",
      "C to C : 1.453\n",
      "C to C : 1.453\n",
      "C to C : 1.453\n",
      "C to C : 1.395\n",
      "C to C : 1.453\n",
      "C to C : 1.453\n",
      "C to C : 1.453\n",
      "C to C : 1.453\n",
      "C to C : 1.453\n",
      "C to C : 1.395\n",
      "C to C : 1.453\n",
      "C to C : 1.395\n",
      "C to C : 1.395\n",
      "C to C : 1.453\n",
      "C to C : 1.453\n",
      "C to C : 1.395\n",
      "C to C : 1.453\n",
      "C to C : 1.453\n",
      "C to C : 1.395\n",
      "C to C : 1.453\n",
      "C to C : 1.453\n",
      "C to C : 1.395\n",
      "C to C : 1.453\n",
      "C to C : 1.453\n",
      "C to C : 1.395\n",
      "C to C : 1.453\n",
      "C to C : 1.453\n",
      "C to C : 1.395\n",
      "C to C : 1.453\n",
      "C to C : 1.453\n",
      "C to C : 1.395\n",
      "C to C : 1.453\n",
      "C to C : 1.453\n",
      "C to C : 1.453\n",
      "C to C : 1.395\n",
      "C to C : 1.453\n",
      "C to C : 1.453\n",
      "C to C : 1.453\n",
      "C to C : 1.395\n",
      "C to C : 1.395\n",
      "C to C : 1.453\n",
      "C to C : 1.453\n",
      "C to C : 1.395\n",
      "C to C : 1.395\n",
      "C to C : 1.453\n",
      "C to C : 1.453\n",
      "C to C : 1.395\n",
      "C to C : 1.395\n",
      "C to C : 1.453\n",
      "C to C : 1.453\n",
      "C to C : 1.453\n",
      "C to C : 1.453\n",
      "C to C : 1.395\n",
      "C to C : 1.453\n",
      "C to C : 1.395\n",
      "C to C : 1.395\n",
      "C to C : 1.453\n",
      "C to C : 1.453\n",
      "C to C : 1.453\n",
      "C to C : 1.453\n",
      "C to C : 1.453\n",
      "C to C : 1.395\n",
      "C to C : 1.453\n",
      "C to C : 1.453\n",
      "C to C : 1.395\n",
      "C to C : 1.453\n",
      "C to C : 1.453\n",
      "C to C : 1.453\n",
      "C to C : 1.453\n",
      "C to C : 1.453\n",
      "C to C : 1.395\n",
      "Printing bonds for  data/water.xyz\n",
      "O to H1 : 0.969\n",
      "O to H2 : 0.969\n"
     ]
    }
   ],
   "source": [
    "#We can also glob to process multiple files\n",
    "\n",
    "import glob\n",
    "\n",
    "xyz_files = glob.glob(\"data/*.xyz\")\n",
    "\n",
    "for xyz_file in xyz_files:\n",
    "    atom_symbols, atom_coords = open_xyz(xyz_file)\n",
    "    print(\"Printing bonds for \", xyz_file)\n",
    "    print_bonds(atom_symbols, atom_coords)"
   ]
  },
  {
   "cell_type": "code",
   "execution_count": null,
   "id": "44cf3c8f",
   "metadata": {},
   "outputs": [],
   "source": []
  }
 ],
 "metadata": {
  "kernelspec": {
   "display_name": "Python 3 (ipykernel)",
   "language": "python",
   "name": "python3"
  },
  "language_info": {
   "codemirror_mode": {
    "name": "ipython",
    "version": 3
   },
   "file_extension": ".py",
   "mimetype": "text/x-python",
   "name": "python",
   "nbconvert_exporter": "python",
   "pygments_lexer": "ipython3",
   "version": "3.11.4"
  }
 },
 "nbformat": 4,
 "nbformat_minor": 5
}
